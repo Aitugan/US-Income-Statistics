{
 "cells": [
  {
   "cell_type": "code",
   "execution_count": null,
   "metadata": {},
   "outputs": [],
   "source": [
    "from bs4 import BeautifulSoup\n",
    "from selenium import webdriver\n",
    "import requests"
   ]
  },
  {
   "cell_type": "code",
   "execution_count": null,
   "metadata": {},
   "outputs": [],
   "source": [
    "DRIVERPATH = \"C:\\\\Users\\\\madiy\\\\chromedriver_win32\\\\chromedriver\"\n",
    "class IndeedParse:\n",
    "    def __init__(self, categories, locations, coordinates=None, pages=1):\n",
    "        self.categories = categories\n",
    "        self.locations = locations\n",
    "        self.coordinates = coordinates\n",
    "        self.pages = pages\n",
    "        self.browser = webdriver.Chrome(DRIVERPATH)\n",
    "        self.browser.set_window_position(0, 0)\n",
    "        self.all_salaries = {}\n",
    "        self.find_by_categories(categories, locations)\n",
    "\n",
    "    def find_by_categories(self, categories, locations):\n",
    "        for idx, location in enumerate(locations):\n",
    "            self.all_salaries[location] = {}\n",
    "            for category in categories:\n",
    "                salary = self.find_salary(category, location)\n",
    "                if salary:\n",
    "                    self.all_salaries[location][category] = self.find_salary(category, location)\n",
    "            mean = self.find_total_mean_of_categories(categories, location)\n",
    "            self.all_salaries[location]['Average'] = mean\n",
    "            print(location)\n",
    "            if (self.coordinates != None):\n",
    "                self.all_salaries[location]['Latitude'] = self.coordinates[idx][0]\n",
    "                self.all_salaries[location]['Longitude'] = self.coordinates[idx][1]\n",
    "    \n",
    "    def find_total_mean_of_categories(self, categories, location):\n",
    "        n = 0\n",
    "        sum = 0\n",
    "        for category in categories:\n",
    "            try:\n",
    "                if category not in self.all_salaries[location]:\n",
    "                    continue\n",
    "                sum += self.all_salaries[location][category]\n",
    "                n += 1\n",
    "            except:\n",
    "                continue\n",
    "        return sum / n\n",
    "    \n",
    "    def find_salary(self, category, location):\n",
    "        pages_count = self.pages\n",
    "        all_salaries = []\n",
    "        \n",
    "        for i in range(self.pages):\n",
    "            if i != 0 and (i > 100 or i >= pages_count):\n",
    "                break\n",
    "            \n",
    "            url = 'https://www.indeed.com/jobs?q={}&l={}&start={}0#'.format(category, location, i)\n",
    "            self.browser.get(url)\n",
    "            soup = BeautifulSoup(self.browser.page_source, 'lxml')\n",
    "            \n",
    "            if i == 0:\n",
    "                try:\n",
    "                    pages_count = int(soup.find('div', {'id': 'searchCountPages'}).text.split(' ')[-2].replace(',', '')) // 10\n",
    "                except:\n",
    "                    continue\n",
    "            \n",
    "            salaries = soup.find_all('span', {'class': 'salaryText'})\n",
    "            \n",
    "            for salary in salaries:\n",
    "                arr = salary.text \\\n",
    "                          .replace(' a ', ' ')  \\\n",
    "                          .replace(' an ', ' ') \\\n",
    "                          .replace('$', '') \\\n",
    "                          .replace(' - ', ' ') \\\n",
    "                          .replace('\\n', '') \\\n",
    "                          .split(' ')\n",
    "\n",
    "                salary = 0\n",
    "                if len(arr) > 2:\n",
    "                    try:\n",
    "                        start_salary = float(arr[0].replace(',', ''))\n",
    "                        end_salary = float(arr[1].replace(',', ''))\n",
    "                        payout_time = arr[-1]\n",
    "                        salary = (start_salary + end_salary) / 2\n",
    "                    except:\n",
    "                        continue\n",
    "                else:\n",
    "                    salary = float(arr[0].replace(',', ''))\n",
    "                    payout_time = arr[-1]\n",
    "\n",
    "                if payout_time == 'month':\n",
    "                    salary *= 12\n",
    "\n",
    "                elif payout_time == 'hour':\n",
    "                    salary *= AVG_WORK_TIME * 30 * 12\n",
    "\n",
    "                all_salaries.append(salary)\n",
    "        if len(all_salaries) == 0:\n",
    "            return None\n",
    "        return self.find_median(all_salaries)\n",
    "                \n",
    "    def find_median(self, arr):\n",
    "        arr = sorted(arr)\n",
    "        if len(arr) % 2 != 0:\n",
    "            return arr[len(arr) // 2]\n",
    "        return (arr[len(arr) // 2 - 1] + arr[len(arr) // 2]) / 2\n",
    "        "
   ]
  },
  {
   "cell_type": "code",
   "execution_count": null,
   "metadata": {},
   "outputs": [],
   "source": [
    "categories = ['Marketing', 'Finance', 'Architecture', 'Business Management', 'Communications', 'Education', 'Healthcare',\n",
    "             'Human Resources', 'Human Services', 'Sales', 'Information Technology']"
   ]
  },
  {
   "cell_type": "code",
   "execution_count": null,
   "metadata": {},
   "outputs": [],
   "source": [
    "response = requests.get('https://www.latlong.net/category/states-236-14.html')\n",
    "soup = BeautifulSoup(response.text, 'lxml')\n",
    "states = []\n",
    "coordinates = []\n",
    "for tr in soup.find_all('tr'):\n",
    "    arr = tr.find_all('td')\n",
    "    if (len(arr) == 0):\n",
    "        continue\n",
    "    states.append(arr[0].a.text.split(',')[0])\n",
    "    coordinates.append((float(arr[1].text), float(arr[2].text)))\n",
    "states[states.index('Missouri State')] = 'Missouri'"
   ]
  },
  {
   "cell_type": "code",
   "execution_count": null,
   "metadata": {},
   "outputs": [],
   "source": [
    "parser = IndeedParse(categories, states, coordinates, 2)"
   ]
  },
  {
   "cell_type": "code",
   "execution_count": null,
   "metadata": {},
   "outputs": [],
   "source": [
    "parser.all_salaries"
   ]
  },
  {
   "cell_type": "code",
   "execution_count": null,
   "metadata": {},
   "outputs": [],
   "source": [
    "import json\n",
    "with open('salaries.json', 'w') as fp:\n",
    "    json.dump(parser.all_salaries, fp)"
   ]
  }
 ],
 "metadata": {
  "kernelspec": {
   "display_name": "Python 3",
   "language": "python",
   "name": "python3"
  },
  "language_info": {
   "codemirror_mode": {
    "name": "ipython",
    "version": 3
   },
   "file_extension": ".py",
   "mimetype": "text/x-python",
   "name": "python",
   "nbconvert_exporter": "python",
   "pygments_lexer": "ipython3",
   "version": "3.8.0"
  }
 },
 "nbformat": 4,
 "nbformat_minor": 4
}
